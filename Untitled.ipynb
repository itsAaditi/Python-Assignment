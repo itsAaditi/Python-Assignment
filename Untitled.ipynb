{
 "cells": [
  {
   "cell_type": "code",
   "execution_count": 3,
   "id": "bfb45dad-b24e-4538-beb3-8216f636c592",
   "metadata": {},
   "outputs": [
    {
     "name": "stdout",
     "output_type": "stream",
     "text": [
      "Aditi Thakur\n"
     ]
    }
   ],
   "source": [
    "#1.How do you concatenate two strings in Python?\n",
    "first_name = \"Aditi\" \n",
    "last_name = \" Thakur\"\n",
    "name = first_name + last_name\n",
    "print(name)"
   ]
  },
  {
   "cell_type": "code",
   "execution_count": 10,
   "id": "dd7b99ab-89f5-45c2-9334-12ea18509e43",
   "metadata": {},
   "outputs": [
    {
     "name": "stdout",
     "output_type": "stream",
     "text": [
      "Aditi Thakur\n"
     ]
    }
   ],
   "source": [
    "#2.What is the diff erence between the + operator and the join() method for concatenating strings?\n",
    "a = \"Aditi\"\n",
    "b = \"Thakur\"\n",
    "c = \" \".join([a,b])\n",
    "print(c)"
   ]
  },
  {
   "cell_type": "code",
   "execution_count": 5,
   "id": "02596363-221e-4396-b7ce-7755fa463aec",
   "metadata": {},
   "outputs": [
    {
     "name": "stdout",
     "output_type": "stream",
     "text": [
      "e\n"
     ]
    }
   ],
   "source": [
    "#3. How do you access individual characters in a string?\n",
    "# By using index number\n",
    "a = \"Hello\"\n",
    "print(a[1])"
   ]
  },
  {
   "cell_type": "code",
   "execution_count": 16,
   "id": "de10cef1-8113-4df8-acd6-0deb40704269",
   "metadata": {},
   "outputs": [
    {
     "data": {
      "text/plain": [
       "5"
      ]
     },
     "execution_count": 16,
     "metadata": {},
     "output_type": "execute_result"
    }
   ],
   "source": [
    "#4. What method is used to fi nd the length of a string in Python?\n",
    "a = \"Hello\"\n",
    "#print(len(a))\n",
    "len(a)"
   ]
  },
  {
   "cell_type": "code",
   "execution_count": 24,
   "id": "c31872b0-1d7f-4a58-b4b1-9c460ed3397b",
   "metadata": {},
   "outputs": [
    {
     "name": "stdout",
     "output_type": "stream",
     "text": [
      "HELLO\n"
     ]
    }
   ],
   "source": [
    "#5. How can you convert a string to uppercase in Python?\n",
    "a = \"hello\"\n",
    "# a.upper()\n",
    "print(a.upper())"
   ]
  },
  {
   "cell_type": "code",
   "execution_count": 26,
   "id": "7e468d76-ea9e-43b4-9d39-80a3d7a59457",
   "metadata": {},
   "outputs": [
    {
     "name": "stdout",
     "output_type": "stream",
     "text": [
      "hello\n"
     ]
    }
   ],
   "source": [
    "#6 How can you convert a string to lowercase in Python?\n",
    "a = \"HELLO\"\n",
    "# print(a.lower())\n",
    "print(a.casefold())"
   ]
  },
  {
   "cell_type": "code",
   "execution_count": 28,
   "id": "5efc56f4-e692-4fe3-babc-e737bb141cce",
   "metadata": {},
   "outputs": [
    {
     "name": "stdout",
     "output_type": "stream",
     "text": [
      "HEllo\n"
     ]
    }
   ],
   "source": [
    "#7. What method is used to replace substrings within a string?\n",
    "a = \"Hello\"\n",
    "e = \"e\"\n",
    "E = \"E\"\n",
    "print(a.replace(e,E))"
   ]
  },
  {
   "cell_type": "code",
   "execution_count": 30,
   "id": "23bbdb7b-ae72-4ff3-9db9-f5cb971e7612",
   "metadata": {},
   "outputs": [
    {
     "name": "stdout",
     "output_type": "stream",
     "text": [
      "['Hello', '76596775332187']\n"
     ]
    }
   ],
   "source": [
    "#8. How can you split a string into a list of substrings based on a delimiter? \n",
    "# a[start:stop:step]\n",
    "a = \"Hello_76596775332187\"\n",
    "print(a.split(\"_\",1))"
   ]
  },
  {
   "cell_type": "code",
   "execution_count": 45,
   "id": "30c56c39-50a1-46b7-9d8a-e507a43cb686",
   "metadata": {},
   "outputs": [
    {
     "name": "stdout",
     "output_type": "stream",
     "text": [
      "True\n"
     ]
    }
   ],
   "source": [
    "#9. How do you check if a string starts with a particular substring?\n",
    "a = \"Hello welcome to python\"\n",
    "print(a.startswith(\"Hello\"))"
   ]
  },
  {
   "cell_type": "code",
   "execution_count": 46,
   "id": "ff8a16ee-f5a3-45d1-b63f-f488867f7ea6",
   "metadata": {},
   "outputs": [
    {
     "name": "stdout",
     "output_type": "stream",
     "text": [
      "False\n"
     ]
    }
   ],
   "source": [
    "#10. How do you check if a string ends with a particular substring?\n",
    "a = \"Hello welcome to python\"\n",
    "print(a.endswith(\"Hello\"))"
   ]
  },
  {
   "cell_type": "code",
   "execution_count": 48,
   "id": "8af7d356-4ece-47db-a5ba-f3f6483cb46a",
   "metadata": {},
   "outputs": [
    {
     "name": "stdout",
     "output_type": "stream",
     "text": [
      "Hello\n"
     ]
    }
   ],
   "source": [
    "#11. How can you remove leading and trailing whitespace from a string?\n",
    "a = \"                          Hello\"\n",
    "print(a.strip())"
   ]
  },
  {
   "cell_type": "code",
   "execution_count": 52,
   "id": "76be880c-4643-4581-bfdc-924225cec970",
   "metadata": {},
   "outputs": [
    {
     "data": {
      "text/plain": [
       "'H'"
      ]
     },
     "execution_count": 52,
     "metadata": {},
     "output_type": "execute_result"
    }
   ],
   "source": [
    "#12. What method is used to find the index of the first occurrence of a substring within a string?\n",
    "a = \"Hello\"\n",
    "#b = a.index[\"H\"]\n",
    "#print(b)\n",
    "a[0]"
   ]
  },
  {
   "cell_type": "code",
   "execution_count": 55,
   "id": "07614a5a-07cf-432a-9035-a7a223388f25",
   "metadata": {},
   "outputs": [
    {
     "name": "stdout",
     "output_type": "stream",
     "text": [
      "11\n"
     ]
    }
   ],
   "source": [
    "#13. How can you count the number of occurrences of a substring within a string?\n",
    "a =\"Hello World\"\n",
    "print(len(a))"
   ]
  },
  {
   "cell_type": "code",
   "execution_count": 58,
   "id": "87b0bf80-d81f-40cd-9bdf-a18cdcde3d39",
   "metadata": {},
   "outputs": [
    {
     "name": "stdout",
     "output_type": "stream",
     "text": [
      "True\n"
     ]
    }
   ],
   "source": [
    "#14. How do you check if a string contains only alphabetic characters?\n",
    "a = \"Hello\"\n",
    "#print(a.typeof())\n",
    "print(a.isalpha())"
   ]
  },
  {
   "cell_type": "code",
   "execution_count": 3,
   "id": "8b421d77-e936-4fdc-8715-00003f55fc73",
   "metadata": {},
   "outputs": [
    {
     "name": "stdout",
     "output_type": "stream",
     "text": [
      "True\n"
     ]
    }
   ],
   "source": [
    "#15. How do you check if a string contains only numeric characters?\n",
    "#a = \"Hello 11\"\n",
    "a= \"11\"\n",
    "print(a.isnumeric())\n"
   ]
  },
  {
   "cell_type": "code",
   "execution_count": 5,
   "id": "b824766c-f50f-4d70-84db-b2c5d5ef47cd",
   "metadata": {},
   "outputs": [
    {
     "name": "stdout",
     "output_type": "stream",
     "text": [
      "radaR\n"
     ]
    }
   ],
   "source": [
    "#16. How can you check if a string is a palindrome?\n",
    "a = \"Radar\"\n",
    "reverse = a[::-1]\n",
    "print(reverse)"
   ]
  },
  {
   "cell_type": "code",
   "execution_count": 9,
   "id": "65e91ec8-03e3-4104-925b-6dbf8b299f99",
   "metadata": {},
   "outputs": [
    {
     "name": "stdout",
     "output_type": "stream",
     "text": [
      "olleH\n"
     ]
    }
   ],
   "source": [
    "#17. How can you reverse a string in Python?\n",
    "a = \"Hello\"\n",
    "reverse = a[::-1]\n",
    "print(reverse)"
   ]
  },
  {
   "cell_type": "code",
   "execution_count": 41,
   "id": "db9b5b3c-6d03-4929-833e-b76fc1edc976",
   "metadata": {},
   "outputs": [],
   "source": [
    "#18. How do you format a string with placeholders for variable values?\n",
    "a = \"Hello\"\n"
   ]
  },
  {
   "cell_type": "code",
   "execution_count": 5,
   "id": "dc1b163d-9a99-4ce1-a727-7c7035dfd6ac",
   "metadata": {},
   "outputs": [
    {
     "name": "stdout",
     "output_type": "stream",
     "text": [
      "HlWl\n"
     ]
    }
   ],
   "source": [
    "#19. How do you access a substring of a string using slicing?\n",
    "a = \"Hello World\"\n",
    "print(a[0:len(a):3])"
   ]
  },
  {
   "cell_type": "code",
   "execution_count": 4,
   "id": "c3a0ff6a-0ae6-4fc2-afd0-5c85226933f2",
   "metadata": {},
   "outputs": [
    {
     "name": "stdout",
     "output_type": "stream",
     "text": [
      "ello\n"
     ]
    }
   ],
   "source": [
    "#20. How can you remove specific characters from a string in Python?\n",
    "a= \"Hello\"\n",
    "x =a.strip(\"H\")\n",
    "print(x)\n"
   ]
  },
  {
   "cell_type": "code",
   "execution_count": null,
   "id": "e990fd5d-6078-46e6-8c3a-a71980b72ac9",
   "metadata": {},
   "outputs": [],
   "source": []
  }
 ],
 "metadata": {
  "kernelspec": {
   "display_name": "Python 3 (ipykernel)",
   "language": "python",
   "name": "python3"
  },
  "language_info": {
   "codemirror_mode": {
    "name": "ipython",
    "version": 3
   },
   "file_extension": ".py",
   "mimetype": "text/x-python",
   "name": "python",
   "nbconvert_exporter": "python",
   "pygments_lexer": "ipython3",
   "version": "3.11.5"
  }
 },
 "nbformat": 4,
 "nbformat_minor": 5
}

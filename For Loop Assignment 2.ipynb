{
 "cells": [
  {
   "cell_type": "code",
   "execution_count": 1,
   "id": "5e6e38dd-ec8b-4293-b525-942c754320b5",
   "metadata": {},
   "outputs": [
    {
     "name": "stdout",
     "output_type": "stream",
     "text": [
      "1\n",
      "2\n",
      "3\n",
      "4\n",
      "5\n",
      "6\n",
      "7\n",
      "8\n",
      "9\n",
      "10\n"
     ]
    }
   ],
   "source": [
    "#1: Write a Python program to print all the numbers from 1 to 10 using a for loop.\n",
    "for i in range(1,11):\n",
    "    print(i)"
   ]
  },
  {
   "cell_type": "code",
   "execution_count": 1,
   "id": "2f437572-5d11-4530-a85e-7ac7137894fc",
   "metadata": {},
   "outputs": [
    {
     "name": "stdout",
     "output_type": "stream",
     "text": [
      "5050\n"
     ]
    }
   ],
   "source": [
    "#2: Write a Python program to find the sum of all numbers from 1 to 100 using a for loop.\n",
    "sum = 0\n",
    "for i in range(1,101):\n",
    "    sum= sum+i      \n",
    "print(sum)"
   ]
  },
  {
   "cell_type": "code",
   "execution_count": 1,
   "id": "3ebdb9d9-273b-4fad-afbf-b14420f7b0b1",
   "metadata": {},
   "outputs": [
    {
     "name": "stdin",
     "output_type": "stream",
     "text": [
      "Enter the number :  23\n"
     ]
    },
    {
     "name": "stdout",
     "output_type": "stream",
     "text": [
      "23 *  1  = 23\n",
      "23 *  2  = 46\n",
      "23 *  3  = 69\n",
      "23 *  4  = 92\n",
      "23 *  5  = 115\n",
      "23 *  6  = 138\n",
      "23 *  7  = 161\n",
      "23 *  8  = 184\n",
      "23 *  9  = 207\n",
      "23 *  10  = 230\n"
     ]
    }
   ],
   "source": [
    "### 3: Write a Python program to print the multiplication table of a given number using a for loop.\n",
    "input = int(input(\"Enter the number : \"))\n",
    "for i in range(1,11):\n",
    "    print(input,\"* \", i,\" =\", input*i)"
   ]
  },
  {
   "cell_type": "code",
   "execution_count": 5,
   "id": "5b13144c-b700-453b-9a2e-4bad6f9e1cc0",
   "metadata": {},
   "outputs": [
    {
     "name": "stdout",
     "output_type": "stream",
     "text": [
      "This is a even number:  5\n",
      "This is a odd number:  5\n"
     ]
    }
   ],
   "source": [
    "#4: Write a Python program to count the number of even and odd numbers from a series of numbers using a for loop.\n",
    "numb= [1,2, 3, 4, 5, 6, 7, 8, 9, 10]\n",
    "even = 0\n",
    "odd = 0\n",
    "for num in numb:\n",
    "    if num%2 ==0:\n",
    "        even +=1\n",
    "    else:\n",
    "        odd +=1\n",
    "print(\"This is a even number: \", even)\n",
    "print(\"This is a odd number: \", odd)\n",
    "    "
   ]
  },
  {
   "cell_type": "code",
   "execution_count": 7,
   "id": "6051cb0f-dcb0-4aae-85d2-a597af0d4bac",
   "metadata": {},
   "outputs": [
    {
     "name": "stdout",
     "output_type": "stream",
     "text": [
      "Even numbers in the list:  1\n",
      "odd numbers in the list:  4\n"
     ]
    }
   ],
   "source": [
    "list = [7,64,5,55,73]\n",
    "even = 0\n",
    "odd = 0\n",
    "for num in list:\n",
    "    if num%2 ==0:\n",
    "        even += 1\n",
    "    else:\n",
    "        odd += 1\n",
    "print(\"Even numbers in the list: \", even)\n",
    "print(\"odd numbers in the list: \", odd)"
   ]
  },
  {
   "cell_type": "code",
   "execution_count": 9,
   "id": "84c1c1d5-9cd5-4ef4-a14a-09f03d829505",
   "metadata": {},
   "outputs": [
    {
     "name": "stdin",
     "output_type": "stream",
     "text": [
      "Enter a number :  4\n"
     ]
    },
    {
     "name": "stdout",
     "output_type": "stream",
     "text": [
      "Factorial of 4 is 24\n"
     ]
    }
   ],
   "source": [
    "#5: Write a Python program to find the factorial of a number using a for loop.\n",
    "numb =int(input(\"Enter a number : \"))\n",
    "fact = 1\n",
    "for i in range(1,numb+1):\n",
    "    fact=fact*i\n",
    "\n",
    "print(\"Factorial of\", numb,\"is\", fact)"
   ]
  },
  {
   "cell_type": "code",
   "execution_count": 10,
   "id": "75164ade-f220-4f62-9647-d3f5652de36f",
   "metadata": {},
   "outputs": [
    {
     "name": "stdin",
     "output_type": "stream",
     "text": [
      "Enter a number :  6\n"
     ]
    },
    {
     "name": "stdout",
     "output_type": "stream",
     "text": [
      "0\n",
      "1\n",
      "1\n",
      "2\n",
      "3\n",
      "5\n"
     ]
    }
   ],
   "source": [
    "#6: Write a Python program to print the Fibonacci sequence up to a specified number using a for loop.\n",
    "numb =int(input(\"Enter a number : \"))\n",
    "a=0\n",
    "b=1\n",
    "c=0\n",
    "for i in range(numb):\n",
    "    print(c)\n",
    "    a=b\n",
    "    b=c\n",
    "    c=a+b"
   ]
  },
  {
   "cell_type": "code",
   "execution_count": 3,
   "id": "60b85209-befd-4a15-8698-7da93828679a",
   "metadata": {},
   "outputs": [
    {
     "name": "stdin",
     "output_type": "stream",
     "text": [
      "Enter a number :  7\n"
     ]
    },
    {
     "name": "stdout",
     "output_type": "stream",
     "text": [
      "It is a prime number: \n",
      "It is a prime number: \n",
      "It is a prime number: \n",
      "It is a prime number: \n",
      "It is a prime number: \n"
     ]
    }
   ],
   "source": [
    "#7: Write a Python program to check if a given number is prime or not using a for loop.\n",
    "numb = int(input(\"Enter a number : \"))\n",
    "for i in range(2,numb):\n",
    "    if numb%i==0:\n",
    "        print(\"This number is not a prime number\")\n",
    "        break\n",
    "    else:\n",
    "        print(\"It is a prime number: \")\n"
   ]
  },
  {
   "cell_type": "code",
   "execution_count": 2,
   "id": "a1c02acd-70a1-4cda-b3c4-31ff184f1367",
   "metadata": {},
   "outputs": [
    {
     "name": "stdin",
     "output_type": "stream",
     "text": [
      "Enter the size of the list:  5\n",
      "Enter the number:  455\n",
      "Enter the number:  66677\n",
      "Enter the number:  44\n",
      "Enter the number:  9\n",
      "Enter the number:  8965\n"
     ]
    },
    {
     "name": "stdout",
     "output_type": "stream",
     "text": [
      "Maximum number is:  66677\n"
     ]
    }
   ],
   "source": [
    "#8: Write a Python program to find the largest element in a list using a for loop.\n",
    "numb=[]\n",
    "size = int(input(\"Enter the size of the list: \"))\n",
    "for i in range(size):\n",
    "    value=int(input(\"Enter the number: \"))\n",
    "    numb.append(value)\n",
    "max = numb[0]\n",
    "for i in range(size):\n",
    "    if(numb[i]>max):\n",
    "        max=numb[i]\n",
    "print(\"Maximum number is: \",max)"
   ]
  },
  {
   "cell_type": "code",
   "execution_count": 1,
   "id": "2e807387-771f-40c6-b1c4-45bad5df45df",
   "metadata": {},
   "outputs": [
    {
     "name": "stdin",
     "output_type": "stream",
     "text": [
      "Enter the Size of List:  6\n",
      "Enter the Number:  34\n",
      "Enter the Number:  72\n",
      "Enter the Number:  747\n",
      "Enter the Number:  47\n",
      "Enter the Number:  93\n",
      "Enter the Number:  48\n"
     ]
    },
    {
     "name": "stdout",
     "output_type": "stream",
     "text": [
      "List after Reverse: \n",
      "48\n",
      "93\n",
      "47\n",
      "747\n",
      "72\n",
      "34\n"
     ]
    }
   ],
   "source": [
    "# 9: Write a Python program to reverse a given string using a for loop.\n",
    "numb = []\n",
    "size = int(input(\"Enter the Size of List: \"))\n",
    "for i in range(size):\n",
    "    value = int(input(\"Enter the Number: \"))\n",
    "    numb.append(value)\n",
    "i = 0\n",
    "j = size-1\n",
    "while (i < j):\n",
    "    t = numb[i]\n",
    "    numb[i] = numb[j]\n",
    "    numb[j] = t\n",
    "    i=i+1\n",
    "    j=j-1\n",
    "print(\"List after Reverse: \", )\n",
    "for i in range(size):\n",
    "    print(numb[i])"
   ]
  },
  {
   "cell_type": "code",
   "execution_count": 4,
   "id": "05795991-7397-420e-808c-b22a8f2707fa",
   "metadata": {},
   "outputs": [
    {
     "name": "stdout",
     "output_type": "stream",
     "text": [
      "Common list is:  [1, 3, 5]\n",
      "Common list is:  [7, 6, 88]\n"
     ]
    }
   ],
   "source": [
    "#10: Write a Python program to find the common elements between two lists using a for loop.\n",
    "list1 = [1,2,3,8,5]\n",
    "list2= [7,6,8,2,88]\n",
    "for set1 in list1:\n",
    "    for set2 in list2:\n",
    "        if set1 == set2:\n",
    "            list1.remove(set1)\n",
    "            list2.remove(set1)\n",
    "\n",
    "print(\"Common list is: \",list1)\n",
    "print(\"Common list is: \",list2)"
   ]
  }
 ],
 "metadata": {
  "kernelspec": {
   "display_name": "Python 3 (ipykernel)",
   "language": "python",
   "name": "python3"
  },
  "language_info": {
   "codemirror_mode": {
    "name": "ipython",
    "version": 3
   },
   "file_extension": ".py",
   "mimetype": "text/x-python",
   "name": "python",
   "nbconvert_exporter": "python",
   "pygments_lexer": "ipython3",
   "version": "3.11.7"
  }
 },
 "nbformat": 4,
 "nbformat_minor": 5
}

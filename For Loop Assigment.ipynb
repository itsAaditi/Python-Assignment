{
 "cells": [
  {
   "cell_type": "code",
   "execution_count": 1,
   "id": "8bba9e83-76bf-4c32-897d-14669441409e",
   "metadata": {},
   "outputs": [
    {
     "name": "stdout",
     "output_type": "stream",
     "text": [
      "Aditi Thakur: AditiThakur@gmail.com\n",
      "Aditya Thakur: AdityaThakur@gmail.com\n",
      "Eni 22: Eni22@gmail.com\n",
      "Iyan 11: Iyan11@gmail.com\n"
     ]
    }
   ],
   "source": [
    "#You have a nested list as below:\n",
    "#indian_employees = [[\"Raj\", \"Patel\"], [\"Priya\", \"Sharma\"],[\"Amit\", \"Kumar\"],[\"Neha\", \"Singh\"]]\n",
    "#your have to create an email address for each employee.\n",
    "#Email address should be there firstname+lastname@gmail.com \n",
    "\n",
    "names = [[\"Aditi\", \"Thakur\"], [\"Aditya\", \"Thakur\"], [\"Eni\", \"22\"], [\"Iyan\", \"11\"]]\n",
    "for first_name , last_name in names:\n",
    "    email_address = f\"{first_name}{last_name}@gmail.com\"\n",
    "    print(f\"{first_name} {last_name}: {email_address}\")"
   ]
  },
  {
   "cell_type": "code",
   "execution_count": null,
   "id": "3dcdda06",
   "metadata": {},
   "outputs": [],
   "source": []
  }
 ],
 "metadata": {
  "kernelspec": {
   "display_name": "Python 3 (ipykernel)",
   "language": "python",
   "name": "python3"
  },
  "language_info": {
   "codemirror_mode": {
    "name": "ipython",
    "version": 3
   },
   "file_extension": ".py",
   "mimetype": "text/x-python",
   "name": "python",
   "nbconvert_exporter": "python",
   "pygments_lexer": "ipython3",
   "version": "3.11.7"
  }
 },
 "nbformat": 4,
 "nbformat_minor": 5
}
